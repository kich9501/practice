{
 "cells": [
  {
   "cell_type": "code",
   "execution_count": 2,
   "metadata": {},
   "outputs": [
    {
     "name": "stderr",
     "output_type": "stream",
     "text": [
      "[nltk_data] Downloading package names to\n",
      "[nltk_data]     C:\\Users\\kis97\\AppData\\Roaming\\nltk_data...\n",
      "[nltk_data]   Unzipping corpora\\names.zip.\n"
     ]
    },
    {
     "data": {
      "text/plain": [
       "True"
      ]
     },
     "execution_count": 2,
     "metadata": {},
     "output_type": "execute_result"
    }
   ],
   "source": [
    "from nltk.corpus import names\n",
    "import nltk\n",
    "\n",
    "nltk.download('names')"
   ]
  },
  {
   "cell_type": "code",
   "execution_count": 5,
   "metadata": {},
   "outputs": [
    {
     "data": {
      "text/plain": [
       "[('Aamir', '남자'),\n",
       " ('Aaron', '남자'),\n",
       " ('Abbey', '남자'),\n",
       " ('Abbie', '남자'),\n",
       " ('Abbot', '남자'),\n",
       " ('Abbott', '남자'),\n",
       " ('Abby', '남자'),\n",
       " ('Abdel', '남자'),\n",
       " ('Abdul', '남자'),\n",
       " ('Abdulkarim', '남자')]"
      ]
     },
     "execution_count": 5,
     "metadata": {},
     "output_type": "execute_result"
    }
   ],
   "source": [
    "labled_names = ([(name, '남자') for name in names.words('male.txt')] + \n",
    "                [(name, '여자') for name in names.words('female.txt')])\n",
    "labled_names[:10]"
   ]
  },
  {
   "cell_type": "code",
   "execution_count": 12,
   "metadata": {},
   "outputs": [
    {
     "data": {
      "text/plain": [
       "{'last_letter': 'i'}"
      ]
     },
     "execution_count": 12,
     "metadata": {},
     "output_type": "execute_result"
    }
   ],
   "source": [
    "def gender_features(word):\n",
    "    return {'last_letter': word[-1]}\n",
    "\n",
    "gender_feature('sopi')"
   ]
  },
  {
   "cell_type": "code",
   "execution_count": 13,
   "metadata": {},
   "outputs": [
    {
     "data": {
      "text/plain": [
       "[({'last_letter': 'h'}, '남자'),\n",
       " ({'last_letter': 'c'}, '남자'),\n",
       " ({'last_letter': 'a'}, '여자'),\n",
       " ({'last_letter': 'a'}, '여자'),\n",
       " ({'last_letter': 'r'}, '남자'),\n",
       " ({'last_letter': 'e'}, '여자'),\n",
       " ({'last_letter': 'e'}, '여자'),\n",
       " ({'last_letter': 'r'}, '남자'),\n",
       " ({'last_letter': 'a'}, '여자'),\n",
       " ({'last_letter': 'e'}, '여자')]"
      ]
     },
     "execution_count": 13,
     "metadata": {},
     "output_type": "execute_result"
    }
   ],
   "source": [
    "import random\n",
    "random.shuffle(labled_names, )\n",
    "labled_names[0:10]\n",
    "\n",
    "featuresets = [(gender_feature(n), gender) for(n, gender) in labled_names]\n",
    "featuresets[0:10]"
   ]
  },
  {
   "cell_type": "code",
   "execution_count": 14,
   "metadata": {},
   "outputs": [
    {
     "data": {
      "text/plain": [
       "'여자'"
      ]
     },
     "execution_count": 14,
     "metadata": {},
     "output_type": "execute_result"
    }
   ],
   "source": [
    "train_set, test_set = featuresets[2000:], featuresets[:2000]\n",
    "classifier = nltk.NaiveBayesClassifier.train(train_set)\n",
    "classifier.classify(gender_features('sephipa'))"
   ]
  }
 ],
 "metadata": {
  "kernelspec": {
   "display_name": "Python 3",
   "language": "python",
   "name": "python3"
  },
  "language_info": {
   "codemirror_mode": {
    "name": "ipython",
    "version": 3
   },
   "file_extension": ".py",
   "mimetype": "text/x-python",
   "name": "python",
   "nbconvert_exporter": "python",
   "pygments_lexer": "ipython3",
   "version": "3.8.3"
  }
 },
 "nbformat": 4,
 "nbformat_minor": 4
}
